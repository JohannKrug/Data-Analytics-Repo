{
 "cells": [
  {
   "cell_type": "code",
   "execution_count": 2,
   "id": "8d480fb3-842f-4def-aefd-7f10ecf6f592",
   "metadata": {
    "tags": []
   },
   "outputs": [
    {
     "name": "stdin",
     "output_type": "stream",
     "text": [
      "Give me a sentence:  Please excuse my dear aunt sally\n"
     ]
    },
    {
     "name": "stdout",
     "output_type": "stream",
     "text": [
      "PLEASE excuse MY dear AUNT sally "
     ]
    }
   ],
   "source": [
    "sentence = input(\"Give me a sentence: \") #Please excuse my dear Aunt Sally.\n",
    "\n",
    "word_list = sentence.split() #[please, excuse, my, dear, Aunt, Sally]\n",
    "\n",
    "#print(word_list)\n",
    "\n",
    "for i, word in enumerate(word_list):\n",
    "#    print(i, word)\n",
    "    \n",
    "    if i % 2 == 0: #even\n",
    "        word_list[i] = word.upper()\n",
    "    else: #odd\n",
    "        word_list[i] = word.lower()\n",
    "    \n",
    "new_sentence = \" \".join(word_list)    \n",
    "print(new_sentence, end=\" \")"
   ]
  },
  {
   "cell_type": "code",
   "execution_count": 1,
   "id": "a48807b8-6add-4086-93ab-f16953578236",
   "metadata": {
    "tags": []
   },
   "outputs": [
    {
     "name": "stdin",
     "output_type": "stream",
     "text": [
      " 2 3 8 4 11\n"
     ]
    },
    {
     "name": "stdout",
     "output_type": "stream",
     "text": [
      "Middle item: 8\n"
     ]
    }
   ],
   "source": [
    "input_numbers = input()\n",
    "\n",
    "numbers_list = [int(num) for num in input_numbers.split()]\n",
    "\n",
    "if len(numbers_list) > 9:\n",
    "    print('Too many inputs')\n",
    "else:\n",
    "    middle_index = len(numbers_list) // 2\n",
    "    middle_index = numbers_list[middle_index]\n",
    "    print(f'Middle item: {middle_index}')"
   ]
  },
  {
   "cell_type": "code",
   "execution_count": 4,
   "id": "9d6d0d1c-f4bf-45ca-8296-748c32850f08",
   "metadata": {
    "tags": []
   },
   "outputs": [
    {
     "name": "stdin",
     "output_type": "stream",
     "text": [
      " Tire Shine\n",
      " Wax\n"
     ]
    },
    {
     "name": "stdout",
     "output_type": "stream",
     "text": [
      "ZyCar Wash\n",
      "Base car wash - $10\n",
      "Tire Shine - $2\n",
      "Wax - $3\n",
      "-----\n",
      "Total price: $15\n"
     ]
    }
   ],
   "source": [
    "services = { 'Air freshener' : 1 , 'Rain repellent': 2, 'Tire Shine' : 2, 'Wax' : 3, 'Vacuum' : 5 }\n",
    "base_wash = 10\n",
    "total = 0\n",
    "\n",
    "service_choice1 = input()\n",
    "service_choice2 = input()\n",
    "\n",
    "print('ZyCar Wash')\n",
    "print(f'Base car wash - ${base_wash}')\n",
    "\n",
    "if service_choice1 != '-':\n",
    "    cost_service1 = services.get(service_choice1, 0)\n",
    "    total += cost_service1\n",
    "    print(f'{service_choice1} - ${cost_service1}')\n",
    "    \n",
    "if service_choice2 != '-':\n",
    "    cost_service2 = services.get(service_choice2, 0)\n",
    "    total += cost_service2\n",
    "    print(f'{service_choice2} - ${cost_service2}')\n",
    "    \n",
    "print('-----')\n",
    "\n",
    "total += base_wash\n",
    "print(f'Total price: ${total}')"
   ]
  },
  {
   "cell_type": "code",
   "execution_count": null,
   "id": "18964ef1-00cd-4434-ada7-3bab6970dc58",
   "metadata": {},
   "outputs": [],
   "source": []
  }
 ],
 "metadata": {
  "kernelspec": {
   "display_name": "Python 3 (ipykernel)",
   "language": "python",
   "name": "python3"
  },
  "language_info": {
   "codemirror_mode": {
    "name": "ipython",
    "version": 3
   },
   "file_extension": ".py",
   "mimetype": "text/x-python",
   "name": "python",
   "nbconvert_exporter": "python",
   "pygments_lexer": "ipython3",
   "version": "3.11.4"
  }
 },
 "nbformat": 4,
 "nbformat_minor": 5
}
