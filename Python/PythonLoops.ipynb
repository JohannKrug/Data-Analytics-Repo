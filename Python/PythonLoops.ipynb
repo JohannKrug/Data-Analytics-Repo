{
 "cells": [
  {
   "cell_type": "code",
   "execution_count": 1,
   "id": "125d5a7a-eeb9-4888-821e-374ccaab1453",
   "metadata": {
    "tags": []
   },
   "outputs": [
    {
     "name": "stdin",
     "output_type": "stream",
     "text": [
      " mypassword\n"
     ]
    },
    {
     "name": "stdout",
     "output_type": "stream",
     "text": [
      "Myp@$$word!\n"
     ]
    }
   ],
   "source": [
    "word = input()\n",
    "password = ''\n",
    "\n",
    "for letter in range(len(word)):\n",
    "    if word[letter] == \"i\":\n",
    "        password += \"1\"\n",
    "    elif word[letter] == \"a\":\n",
    "        password += \"@\"\n",
    "    elif word[letter] == \"m\":\n",
    "        password += \"M\"\n",
    "    elif word[letter] == \"B\":\n",
    "        password += \"8\"\n",
    "    elif word[letter] == \"s\":\n",
    "        password += \"$\"\n",
    "    else:\n",
    "        password += word[letter]\n",
    "print(f'{password}!')"
   ]
  },
  {
   "cell_type": "code",
   "execution_count": 1,
   "id": "7cbfc184-fe9e-4f6d-beff-271788d87e2a",
   "metadata": {
    "tags": []
   },
   "outputs": [
    {
     "name": "stdin",
     "output_type": "stream",
     "text": [
      "Enter an between 1-60:  50\n"
     ]
    },
    {
     "name": "stdout",
     "output_type": "stream",
     "text": [
      "11:59:10pm\n",
      "11:59:11pm\n",
      "11:59:12pm\n",
      "11:59:13pm\n",
      "11:59:14pm\n",
      "11:59:15pm\n",
      "11:59:16pm\n",
      "11:59:17pm\n",
      "11:59:18pm\n",
      "11:59:19pm\n",
      "11:59:20pm\n",
      "11:59:21pm\n",
      "11:59:22pm\n",
      "11:59:23pm\n",
      "11:59:24pm\n",
      "11:59:25pm\n",
      "11:59:26pm\n",
      "11:59:27pm\n",
      "11:59:28pm\n",
      "11:59:29pm\n",
      "11:59:30pm\n",
      "11:59:31pm\n",
      "11:59:32pm\n",
      "11:59:33pm\n",
      "11:59:34pm\n",
      "11:59:35pm\n",
      "11:59:36pm\n",
      "11:59:37pm\n",
      "11:59:38pm\n",
      "11:59:39pm\n",
      "11:59:40pm\n",
      "11:59:41pm\n",
      "11:59:42pm\n",
      "11:59:43pm\n",
      "11:59:44pm\n",
      "11:59:45pm\n",
      "11:59:46pm\n",
      "11:59:47pm\n",
      "11:59:48pm\n",
      "11:59:49pm\n",
      "11:59:50pm\n",
      "11:59:51pm\n",
      "11:59:52pm\n",
      "11:59:53pm\n",
      "11:59:54pm\n",
      "11:59:55pm\n",
      "11:59:56pm\n",
      "11:59:57pm\n",
      "11:59:58pm\n",
      "11:59:59pm\n",
      "12:00:00am\n",
      "HAPPY NEW YEAR!\n"
     ]
    }
   ],
   "source": [
    "#intial\n",
    "seconds = int(input(\"Enter an between 1-60: \"))\n",
    "#condition\n",
    "while (seconds < 1 or seconds > 60):\n",
    "    #work\n",
    "    print(\"The number you entered is not between 1-60.\")\n",
    "\n",
    "    #update\n",
    "    seconds = int(input(\"Enter an between 1-60: \"))\n",
    "    \n",
    "start = 60 - seconds #45 if 15\n",
    "for sec in range(start, 60):\n",
    "    print(f\"11:59:{sec}pm\")\n",
    "\n",
    "print(\"12:00:00am\")\n",
    "print(\"HAPPY NEW YEAR!\")"
   ]
  },
  {
   "cell_type": "code",
   "execution_count": 1,
   "id": "2d8528fd-a48c-4ccb-acd6-1267eecbd557",
   "metadata": {
    "tags": []
   },
   "outputs": [
    {
     "name": "stdin",
     "output_type": "stream",
     "text": [
      " 5\n",
      " 1\n",
      " 3\n"
     ]
    },
    {
     "name": "stdout",
     "output_type": "stream",
     "text": [
      "*\n",
      "*\n",
      "*\n",
      "*\n",
      "*\n",
      "***\n",
      "**\n",
      "*\n"
     ]
    }
   ],
   "source": [
    "base_height = int(input())\n",
    "base_width = int(input())\n",
    "head_width = int(input())\n",
    "\n",
    "while head_width <= base_width:\n",
    "    head_width = int(input())\n",
    "for i in range(base_height):\n",
    "    for j in range(base_width):\n",
    "        print(\"*\", end=\"\")\n",
    "    print()\n",
    "for i in range(head_width,0,-1):\n",
    "    for j in range(i):\n",
    "        print(\"*\", end=\"\")\n",
    "    print()"
   ]
  },
  {
   "cell_type": "code",
   "execution_count": null,
   "id": "4af0cb20-addb-45e4-bb26-e3534a124919",
   "metadata": {},
   "outputs": [],
   "source": []
  }
 ],
 "metadata": {
  "kernelspec": {
   "display_name": "Python 3 (ipykernel)",
   "language": "python",
   "name": "python3"
  },
  "language_info": {
   "codemirror_mode": {
    "name": "ipython",
    "version": 3
   },
   "file_extension": ".py",
   "mimetype": "text/x-python",
   "name": "python",
   "nbconvert_exporter": "python",
   "pygments_lexer": "ipython3",
   "version": "3.11.4"
  }
 },
 "nbformat": 4,
 "nbformat_minor": 5
}
