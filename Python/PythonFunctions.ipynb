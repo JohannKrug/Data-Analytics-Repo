{
 "cells": [
  {
   "cell_type": "code",
   "execution_count": 1,
   "id": "18916623-1716-473c-8b16-8bb067f5dac2",
   "metadata": {
    "tags": []
   },
   "outputs": [
    {
     "name": "stdout",
     "output_type": "stream",
     "text": [
      "Kathleen Mae Ryan, your initials are KMR.\n",
      "Destiny Maximus Hoffman, your initials are DMH.\n",
      "Erin Gianna Dous, your initials are EGD.\n"
     ]
    }
   ],
   "source": [
    "def find_intials1(first, mid, last):\n",
    "    \n",
    "    intials = first[0].upper() + mid[0].upper() + last[0].upper()\n",
    "    \n",
    "    return intials\n",
    "\n",
    "\n",
    "\n",
    "# Now inside the if statement, USE the function, ie, \n",
    "# place the code that goes into the main processing area (the second file).\n",
    "\n",
    "if __name__ == \"__main__\":\n",
    "    \n",
    "    f_name = 'Kathleen'\n",
    "    m_name = 'Mae'\n",
    "    l_name = 'Ryan'\n",
    "    \n",
    "    abbrev = find_intials1(f_name, m_name, l_name)\n",
    "    print(f'{f_name} {m_name} {l_name}, your initials are {abbrev}.')\n",
    "    \n",
    "    \n",
    "    f_name = 'Destiny'\n",
    "    m_name = 'Maximus'\n",
    "    l_name = 'Hoffman'\n",
    "    \n",
    "    abbrev = find_intials1(f_name, m_name, l_name)\n",
    "    print(f'{f_name} {m_name} {l_name}, your initials are {abbrev}.')\n",
    "    \n",
    "    \n",
    "    f_name = 'Erin'\n",
    "    m_name = 'Gianna'\n",
    "    l_name = 'Dous'\n",
    "    \n",
    "    abbrev = find_intials1(f_name, m_name, l_name)\n",
    "    print(f'{f_name} {m_name} {l_name}, your initials are {abbrev}.')"
   ]
  },
  {
   "cell_type": "code",
   "execution_count": 2,
   "id": "a0864c21-78fa-49b7-9c56-9c890ff3b3f6",
   "metadata": {
    "tags": []
   },
   "outputs": [
    {
     "name": "stdout",
     "output_type": "stream",
     "text": [
      "Kathleen Mae Ryan, your initials are KMR.\n",
      "Destiny Maximus Hoffman, your initials are DMH.\n",
      "Erin Gianna Dous, your initials are EGD.\n"
     ]
    }
   ],
   "source": [
    "def find_initials2(name1, name2, name3):\n",
    "    \n",
    "    inits = name1[0].upper() + name2[0].upper() + name3[0].upper()\n",
    "    \n",
    "    print(f'{name1} {name2} {name3}, your initials are {inits}.')\n",
    "\n",
    "\n",
    "\n",
    "\n",
    "# Now inside the if statement, USE the function, ie, \n",
    "# place the code that goes into the main processing area (the second file).\n",
    "\n",
    "if __name__ == \"__main__\":\n",
    "    \n",
    "    find_initials2(\"Kathleen\", \"Mae\", \"Ryan\")\n",
    "    find_initials2(\"Destiny\", \"Maximus\", \"Hoffman\")\n",
    "    find_initials2(\"Erin\", \"Gianna\", \"Dous\")"
   ]
  }
 ],
 "metadata": {
  "kernelspec": {
   "display_name": "Python 3 (ipykernel)",
   "language": "python",
   "name": "python3"
  },
  "language_info": {
   "codemirror_mode": {
    "name": "ipython",
    "version": 3
   },
   "file_extension": ".py",
   "mimetype": "text/x-python",
   "name": "python",
   "nbconvert_exporter": "python",
   "pygments_lexer": "ipython3",
   "version": "3.11.4"
  }
 },
 "nbformat": 4,
 "nbformat_minor": 5
}
